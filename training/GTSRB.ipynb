{
 "cells": [
  {
   "cell_type": "markdown",
   "metadata": {},
   "source": [
    "# GTSRB\n",
    "\n",
    "Labelling data is incredibly time consuming, so here we try to generate training data without any human labelling. This works by taking the images for positive and negative class from different sources:\n",
    "\n",
    "- positive class (i.e. the sign is visible): The GTSRB contains many images for German signs. For the red triangle sign, there are 2.162 images available. Actually, there were only ~30 signs recorded, but each one of them is shown from a different distance\n",
    "- negative class: We record a video of the car driving around, without placing any signs on the street. This allows us to easily label all of these images as negative\n",
    "\n",
    "There are some problems with this approach:\n",
    "\n",
    "- image size: The GTSRB images are very small. We try to fix this by cutting many training examples out of every frame of the negative recording\n",
    "- image format: GTSRB uses the .ppm format, the recording produces .jpg, this needs to be unified for the ConvNet\n",
    "- background: The GTSRB has real world backgrounds, that are more complex than ours\n",
    "- lightning"
   ]
  },
  {
   "cell_type": "code",
   "execution_count": 1,
   "metadata": {
    "collapsed": true
   },
   "outputs": [],
   "source": [
    "%matplotlib inline\n",
    "\n",
    "import cv2\n",
    "from matplotlib import pyplot as plt\n",
    "from os import listdir"
   ]
  },
  {
   "cell_type": "code",
   "execution_count": 2,
   "metadata": {
    "collapsed": true
   },
   "outputs": [],
   "source": [
    "def read_img(path):\n",
    "    img = cv2.imread(path)\n",
    "    return cv2.cvtColor(img, cv2.COLOR_BGR2RGB)"
   ]
  },
  {
   "cell_type": "code",
   "execution_count": 3,
   "metadata": {
    "collapsed": true
   },
   "outputs": [],
   "source": [
    "def show_img(img):\n",
    "    plt.imshow(img)\n",
    "    plt.show()"
   ]
  },
  {
   "cell_type": "code",
   "execution_count": 4,
   "metadata": {
    "collapsed": true
   },
   "outputs": [],
   "source": [
    "def save_img(img, path):\n",
    "    img = cv2.cvtColor(img, cv2.COLOR_RGB2BGR)\n",
    "    cv2.imwrite(path, img)"
   ]
  },
  {
   "cell_type": "code",
   "execution_count": 5,
   "metadata": {
    "collapsed": true
   },
   "outputs": [],
   "source": [
    "new_path = \"/Users/florian/Desktop/data/\"\n",
    "shape = (25, 25)"
   ]
  },
  {
   "cell_type": "markdown",
   "metadata": {},
   "source": [
    "## Negative"
   ]
  },
  {
   "cell_type": "code",
   "execution_count": 13,
   "metadata": {
    "collapsed": true
   },
   "outputs": [],
   "source": [
    "neg_path = \"/Users/florian/traffic-signs-dataset/negative/\""
   ]
  },
  {
   "cell_type": "code",
   "execution_count": 17,
   "metadata": {
    "collapsed": true
   },
   "outputs": [],
   "source": [
    "def cut_img(img, num_horizontal, num_vertical):\n",
    "    height, width, _ = img.shape\n",
    "    \n",
    "    step_x = width / num_horizontal\n",
    "    step_y = height / num_vertical\n",
    "    \n",
    "    for x in range(0, width, step_x):\n",
    "        for y in range(0, height, step_y):\n",
    "            yield img[y:y + step_y, x:x + step_x]"
   ]
  },
  {
   "cell_type": "code",
   "execution_count": 20,
   "metadata": {
    "collapsed": true
   },
   "outputs": [],
   "source": [
    "i = 0\n",
    "\n",
    "for filename in listdir(neg_path):\n",
    "    if filename.endswith(\".jpg\"):\n",
    "        img = read_img(neg_path + filename)\n",
    "        \n",
    "        for cutted_img in cut_img(img, 8, 6):\n",
    "            new_img = cv2.resize(cutted_img, shape)\n",
    "            new_img_path = \"%s/negative/%d.png\" % (new_path, i + 1)\n",
    "            save_img(new_img, new_img_path)\n",
    "            i += 1"
   ]
  },
  {
   "cell_type": "markdown",
   "metadata": {},
   "source": [
    "## Positive"
   ]
  },
  {
   "cell_type": "code",
   "execution_count": 6,
   "metadata": {
    "collapsed": true
   },
   "outputs": [],
   "source": [
    "pos_path = \"/Users/florian/Desktop/GTSRB/Final_Training/Images/00013-red-triangle/\""
   ]
  },
  {
   "cell_type": "code",
   "execution_count": 7,
   "metadata": {
    "collapsed": true
   },
   "outputs": [],
   "source": [
    "for i, filename in enumerate(listdir(pos_path)):\n",
    "    if filename.endswith(\".ppm\"):\n",
    "        img = read_img(pos_path + filename)\n",
    "        new_img = cv2.resize(img, shape)\n",
    "        new_img_path = \"%s/positive/%d.png\" % (new_path, i + 1)\n",
    "        save_img(new_img, new_img_path)"
   ]
  }
 ],
 "metadata": {
  "kernelspec": {
   "display_name": "Python 2",
   "language": "python",
   "name": "python2"
  },
  "language_info": {
   "codemirror_mode": {
    "name": "ipython",
    "version": 2
   },
   "file_extension": ".py",
   "mimetype": "text/x-python",
   "name": "python",
   "nbconvert_exporter": "python",
   "pygments_lexer": "ipython2",
   "version": "2.7.11"
  }
 },
 "nbformat": 4,
 "nbformat_minor": 2
}
